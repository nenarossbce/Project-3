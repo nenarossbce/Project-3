{
 "cells": [
  {
   "cell_type": "markdown",
   "id": "9db4840a",
   "metadata": {},
   "source": [
    "# Project 3 - Part 2 Extract from TMDB "
   ]
  },
  {
   "cell_type": "markdown",
   "id": "522f04da",
   "metadata": {},
   "source": [
    "Source: https://www.themoviedb.org/"
   ]
  },
  {
   "cell_type": "code",
   "execution_count": 1,
   "id": "4e51463d",
   "metadata": {},
   "outputs": [
    {
     "data": {
      "text/plain": [
       "dict_keys(['api key', 'api read token'])"
      ]
     },
     "execution_count": 1,
     "metadata": {},
     "output_type": "execute_result"
    }
   ],
   "source": [
    "#login with api credentials for tmbd\n",
    "import json\n",
    "with open('C:\\\\Users\\\\nena_\\\\.secret\\\\tmbd_api.json','r') as f:\n",
    "    login = json.load(f)\n",
    "#display the keys of the loaded dict \n",
    "login.keys()"
   ]
  },
  {
   "cell_type": "code",
   "execution_count": null,
   "id": "c8ca90fa",
   "metadata": {},
   "outputs": [],
   "source": [
    "#import tmdb package and set the api_key variable to the API key \n",
    "import tmdbsimple as tmdb \n",
    "tmdb.API_KEY = login['api-key']"
   ]
  },
  {
   "cell_type": "markdown",
   "id": "395cb318",
   "metadata": {},
   "source": [
    "* Your stakeholder wants you to extract the budget, revenue, and MPAA Rating (G/PG/PG-13/R), which is also called \"Certification\"."
   ]
  },
  {
   "cell_type": "markdown",
   "id": "193aa852",
   "metadata": {},
   "source": [
    "### Saving the Movie Certification/MPAA Rating"
   ]
  },
  {
   "cell_type": "code",
   "execution_count": null,
   "id": "1592a951",
   "metadata": {},
   "outputs": [],
   "source": [
    "#### Defining the Function "
   ]
  },
  {
   "cell_type": "code",
   "execution_count": null,
   "id": "8b4ac7ee",
   "metadata": {},
   "outputs": [],
   "source": [
    "def get_movie_with_rating(movie_id):\n",
    "    \n",
    "    #get the movie object for the current id \n",
    "    movie = tmdb.Movies(movie_id)\n",
    "    \n",
    "    #save the .info .releases dictionaries\n",
    "    info = movie.info()\n",
    "    \n",
    "    releases = movie.releases()\n",
    "    #Loop through countries in releases \n",
    "    for c in releases['countries']:\n",
    "        #if the country abbreviation == US\n",
    "        if c['iso_3166_1'] == 'US':\n",
    "            ## Save a certification key in info with the certification \n",
    "            info['certification'] = c['certification']\n",
    "            \n",
    "    return info "
   ]
  },
  {
   "cell_type": "code",
   "execution_count": null,
   "id": "8f432cca",
   "metadata": {},
   "outputs": [],
   "source": [
    "test = get_movie_with_rating(\"tt0848228\") #put your function name here\n",
    "test"
   ]
  },
  {
   "cell_type": "markdown",
   "id": "eb5f7bdb",
   "metadata": {},
   "source": [
    "### Extracting years 2000, 2001 "
   ]
  },
  {
   "cell_type": "code",
   "execution_count": null,
   "id": "c9fd816c",
   "metadata": {},
   "outputs": [],
   "source": [
    "YEARS_TO_GET = [2000, 2001]"
   ]
  },
  {
   "cell_type": "code",
   "execution_count": null,
   "id": "64fe75d8",
   "metadata": {},
   "outputs": [],
   "source": [
    "JSON_FILE = f'{FOLDER}tmdb_api_results_{YEAR}.json'"
   ]
  },
  {
   "cell_type": "code",
   "execution_count": null,
   "id": "6492e89c",
   "metadata": {},
   "outputs": [],
   "source": [
    "file_exist - os.path.isfile{JSON_FILE}"
   ]
  }
 ],
 "metadata": {
  "kernelspec": {
   "display_name": "Python (dojo-env)",
   "language": "python",
   "name": "dojo-env"
  },
  "language_info": {
   "codemirror_mode": {
    "name": "ipython",
    "version": 3
   },
   "file_extension": ".py",
   "mimetype": "text/x-python",
   "name": "python",
   "nbconvert_exporter": "python",
   "pygments_lexer": "ipython3",
   "version": "3.9.15"
  },
  "toc": {
   "base_numbering": 1,
   "nav_menu": {},
   "number_sections": true,
   "sideBar": true,
   "skip_h1_title": false,
   "title_cell": "Table of Contents",
   "title_sidebar": "Contents",
   "toc_cell": false,
   "toc_position": {},
   "toc_section_display": true,
   "toc_window_display": false
  }
 },
 "nbformat": 4,
 "nbformat_minor": 5
}
