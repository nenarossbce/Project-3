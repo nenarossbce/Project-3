{
 "cells": [
  {
   "cell_type": "markdown",
   "id": "9ba21d6d",
   "metadata": {},
   "source": [
    "### Imports "
   ]
  },
  {
   "cell_type": "code",
   "execution_count": 13,
   "id": "c42c0253",
   "metadata": {},
   "outputs": [
    {
     "data": {
      "text/plain": [
       "['.ipynb_checkpoints',\n",
       " 'title-akas-us-only.csv',\n",
       " 'title.basics.tsv.gz',\n",
       " 'title.ratings.tsv.gz']"
      ]
     },
     "execution_count": 13,
     "metadata": {},
     "output_type": "execute_result"
    }
   ],
   "source": [
    "# example making new folder with os\n",
    "import os\n",
    "os.makedirs('Data/',exist_ok=True) # Confirm folder created\n",
    "os.listdir(\"Data/\")\n",
    "\n"
   ]
  },
  {
   "cell_type": "code",
   "execution_count": 2,
   "id": "d739008a",
   "metadata": {},
   "outputs": [],
   "source": [
    "import pandas as pd\n",
    "import numpy as np"
   ]
  },
  {
   "cell_type": "markdown",
   "id": "e3ddfbe0",
   "metadata": {},
   "source": [
    "### Cleaning AKAs "
   ]
  },
  {
   "cell_type": "code",
   "execution_count": 72,
   "id": "ce4a9ae8",
   "metadata": {},
   "outputs": [
    {
     "data": {
      "text/html": [
       "<div>\n",
       "<style scoped>\n",
       "    .dataframe tbody tr th:only-of-type {\n",
       "        vertical-align: middle;\n",
       "    }\n",
       "\n",
       "    .dataframe tbody tr th {\n",
       "        vertical-align: top;\n",
       "    }\n",
       "\n",
       "    .dataframe thead th {\n",
       "        text-align: right;\n",
       "    }\n",
       "</style>\n",
       "<table border=\"1\" class=\"dataframe\">\n",
       "  <thead>\n",
       "    <tr style=\"text-align: right;\">\n",
       "      <th></th>\n",
       "      <th>titleId</th>\n",
       "      <th>ordering</th>\n",
       "      <th>title</th>\n",
       "      <th>region</th>\n",
       "      <th>language</th>\n",
       "      <th>types</th>\n",
       "      <th>attributes</th>\n",
       "      <th>isOriginalTitle</th>\n",
       "    </tr>\n",
       "  </thead>\n",
       "  <tbody>\n",
       "    <tr>\n",
       "      <th>0</th>\n",
       "      <td>tt0000001</td>\n",
       "      <td>6</td>\n",
       "      <td>Carmencita</td>\n",
       "      <td>US</td>\n",
       "      <td>\\N</td>\n",
       "      <td>imdbDisplay</td>\n",
       "      <td>\\N</td>\n",
       "      <td>0</td>\n",
       "    </tr>\n",
       "    <tr>\n",
       "      <th>1</th>\n",
       "      <td>tt0000002</td>\n",
       "      <td>7</td>\n",
       "      <td>The Clown and His Dogs</td>\n",
       "      <td>US</td>\n",
       "      <td>\\N</td>\n",
       "      <td>\\N</td>\n",
       "      <td>literal English title</td>\n",
       "      <td>0</td>\n",
       "    </tr>\n",
       "    <tr>\n",
       "      <th>2</th>\n",
       "      <td>tt0000005</td>\n",
       "      <td>10</td>\n",
       "      <td>Blacksmith Scene</td>\n",
       "      <td>US</td>\n",
       "      <td>\\N</td>\n",
       "      <td>imdbDisplay</td>\n",
       "      <td>\\N</td>\n",
       "      <td>0</td>\n",
       "    </tr>\n",
       "    <tr>\n",
       "      <th>3</th>\n",
       "      <td>tt0000005</td>\n",
       "      <td>1</td>\n",
       "      <td>Blacksmithing Scene</td>\n",
       "      <td>US</td>\n",
       "      <td>\\N</td>\n",
       "      <td>alternative</td>\n",
       "      <td>\\N</td>\n",
       "      <td>0</td>\n",
       "    </tr>\n",
       "    <tr>\n",
       "      <th>4</th>\n",
       "      <td>tt0000005</td>\n",
       "      <td>6</td>\n",
       "      <td>Blacksmith Scene #1</td>\n",
       "      <td>US</td>\n",
       "      <td>\\N</td>\n",
       "      <td>alternative</td>\n",
       "      <td>\\N</td>\n",
       "      <td>0</td>\n",
       "    </tr>\n",
       "  </tbody>\n",
       "</table>\n",
       "</div>"
      ],
      "text/plain": [
       "     titleId  ordering                   title region language        types  \\\n",
       "0  tt0000001         6              Carmencita     US       \\N  imdbDisplay   \n",
       "1  tt0000002         7  The Clown and His Dogs     US       \\N           \\N   \n",
       "2  tt0000005        10        Blacksmith Scene     US       \\N  imdbDisplay   \n",
       "3  tt0000005         1     Blacksmithing Scene     US       \\N  alternative   \n",
       "4  tt0000005         6     Blacksmith Scene #1     US       \\N  alternative   \n",
       "\n",
       "              attributes isOriginalTitle  \n",
       "0                     \\N               0  \n",
       "1  literal English title               0  \n",
       "2                     \\N               0  \n",
       "3                     \\N               0  \n",
       "4                     \\N               0  "
      ]
     },
     "execution_count": 72,
     "metadata": {},
     "output_type": "execute_result"
    }
   ],
   "source": [
    "#Load akas data \n",
    "df_akas='Data/title-akas-us-only.csv'\n",
    "df = pd.read_csv(df_akas,  low_memory=False)\n",
    "df.head()"
   ]
  },
  {
   "cell_type": "code",
   "execution_count": 74,
   "id": "ea90ef32",
   "metadata": {},
   "outputs": [
    {
     "name": "stdout",
     "output_type": "stream",
     "text": [
      "<class 'pandas.core.frame.DataFrame'>\n",
      "RangeIndex: 1452564 entries, 0 to 1452563\n",
      "Data columns (total 8 columns):\n",
      " #   Column           Non-Null Count    Dtype \n",
      "---  ------           --------------    ----- \n",
      " 0   titleId          1452564 non-null  object\n",
      " 1   ordering         1452564 non-null  int64 \n",
      " 2   title            1452564 non-null  object\n",
      " 3   region           1452564 non-null  object\n",
      " 4   language         1452564 non-null  object\n",
      " 5   types            1452564 non-null  object\n",
      " 6   attributes       1452564 non-null  object\n",
      " 7   isOriginalTitle  1452564 non-null  object\n",
      "dtypes: int64(1), object(7)\n",
      "memory usage: 88.7+ MB\n"
     ]
    }
   ],
   "source": [
    "df.info()"
   ]
  },
  {
   "cell_type": "code",
   "execution_count": 69,
   "id": "eb164a8d",
   "metadata": {},
   "outputs": [
    {
     "data": {
      "text/plain": [
       "US    1452564\n",
       "Name: region, dtype: int64"
      ]
     },
     "execution_count": 69,
     "metadata": {},
     "output_type": "execute_result"
    }
   ],
   "source": [
    "#Check value count for region (only want US)\n",
    "df['region'].value_counts()"
   ]
  },
  {
   "cell_type": "markdown",
   "id": "a3aa49b8",
   "metadata": {},
   "source": [
    "#### Replace \"\\N\" with np.nan"
   ]
  },
  {
   "cell_type": "code",
   "execution_count": 75,
   "id": "822d70de",
   "metadata": {},
   "outputs": [],
   "source": [
    "#Replace and make permanent\n",
    "df.replace({'\\\\N':np.nan}, inplace =True)"
   ]
  },
  {
   "cell_type": "markdown",
   "id": "53af2938",
   "metadata": {},
   "source": [
    "### Cleaning Ratings"
   ]
  },
  {
   "cell_type": "code",
   "execution_count": 7,
   "id": "714c9ae5",
   "metadata": {},
   "outputs": [
    {
     "data": {
      "text/html": [
       "<div>\n",
       "<style scoped>\n",
       "    .dataframe tbody tr th:only-of-type {\n",
       "        vertical-align: middle;\n",
       "    }\n",
       "\n",
       "    .dataframe tbody tr th {\n",
       "        vertical-align: top;\n",
       "    }\n",
       "\n",
       "    .dataframe thead th {\n",
       "        text-align: right;\n",
       "    }\n",
       "</style>\n",
       "<table border=\"1\" class=\"dataframe\">\n",
       "  <thead>\n",
       "    <tr style=\"text-align: right;\">\n",
       "      <th></th>\n",
       "      <th>tconst</th>\n",
       "      <th>averageRating</th>\n",
       "      <th>numVotes</th>\n",
       "    </tr>\n",
       "  </thead>\n",
       "  <tbody>\n",
       "    <tr>\n",
       "      <th>0</th>\n",
       "      <td>tt0000001</td>\n",
       "      <td>5.7</td>\n",
       "      <td>1991</td>\n",
       "    </tr>\n",
       "    <tr>\n",
       "      <th>1</th>\n",
       "      <td>tt0000002</td>\n",
       "      <td>5.8</td>\n",
       "      <td>265</td>\n",
       "    </tr>\n",
       "    <tr>\n",
       "      <th>2</th>\n",
       "      <td>tt0000003</td>\n",
       "      <td>6.5</td>\n",
       "      <td>1862</td>\n",
       "    </tr>\n",
       "    <tr>\n",
       "      <th>3</th>\n",
       "      <td>tt0000004</td>\n",
       "      <td>5.5</td>\n",
       "      <td>178</td>\n",
       "    </tr>\n",
       "    <tr>\n",
       "      <th>4</th>\n",
       "      <td>tt0000005</td>\n",
       "      <td>6.2</td>\n",
       "      <td>2648</td>\n",
       "    </tr>\n",
       "  </tbody>\n",
       "</table>\n",
       "</div>"
      ],
      "text/plain": [
       "      tconst  averageRating  numVotes\n",
       "0  tt0000001            5.7      1991\n",
       "1  tt0000002            5.8       265\n",
       "2  tt0000003            6.5      1862\n",
       "3  tt0000004            5.5       178\n",
       "4  tt0000005            6.2      2648"
      ]
     },
     "execution_count": 7,
     "metadata": {},
     "output_type": "execute_result"
    }
   ],
   "source": [
    "#Load ratings data \n",
    "fpath='Data/title.ratings.tsv.gz'\n",
    "df_tr = pd.read_csv(fpath, sep='\\t', low_memory=False)\n",
    "df_tr.head()"
   ]
  },
  {
   "cell_type": "code",
   "execution_count": 85,
   "id": "396651b6",
   "metadata": {},
   "outputs": [],
   "source": [
    "## Save current dataframe to file.\n",
    "df_tr.to_csv(\"Data/title.ratings.tsv.gz\",compression='gzip',index=False)\n"
   ]
  },
  {
   "cell_type": "code",
   "execution_count": 86,
   "id": "e7da9103",
   "metadata": {},
   "outputs": [
    {
     "data": {
      "text/html": [
       "<div>\n",
       "<style scoped>\n",
       "    .dataframe tbody tr th:only-of-type {\n",
       "        vertical-align: middle;\n",
       "    }\n",
       "\n",
       "    .dataframe tbody tr th {\n",
       "        vertical-align: top;\n",
       "    }\n",
       "\n",
       "    .dataframe thead th {\n",
       "        text-align: right;\n",
       "    }\n",
       "</style>\n",
       "<table border=\"1\" class=\"dataframe\">\n",
       "  <thead>\n",
       "    <tr style=\"text-align: right;\">\n",
       "      <th></th>\n",
       "      <th>tconst</th>\n",
       "      <th>averageRating</th>\n",
       "      <th>numVotes</th>\n",
       "    </tr>\n",
       "  </thead>\n",
       "  <tbody>\n",
       "    <tr>\n",
       "      <th>0</th>\n",
       "      <td>tt0035423</td>\n",
       "      <td>6.4</td>\n",
       "      <td>87333</td>\n",
       "    </tr>\n",
       "    <tr>\n",
       "      <th>1</th>\n",
       "      <td>tt0050396</td>\n",
       "      <td>4.6</td>\n",
       "      <td>212</td>\n",
       "    </tr>\n",
       "    <tr>\n",
       "      <th>2</th>\n",
       "      <td>tt0062336</td>\n",
       "      <td>6.4</td>\n",
       "      <td>179</td>\n",
       "    </tr>\n",
       "    <tr>\n",
       "      <th>3</th>\n",
       "      <td>tt0068865</td>\n",
       "      <td>5.4</td>\n",
       "      <td>75</td>\n",
       "    </tr>\n",
       "    <tr>\n",
       "      <th>4</th>\n",
       "      <td>tt0069049</td>\n",
       "      <td>6.7</td>\n",
       "      <td>7793</td>\n",
       "    </tr>\n",
       "  </tbody>\n",
       "</table>\n",
       "</div>"
      ],
      "text/plain": [
       "      tconst  averageRating  numVotes\n",
       "0  tt0035423            6.4     87333\n",
       "1  tt0050396            4.6       212\n",
       "2  tt0062336            6.4       179\n",
       "3  tt0068865            5.4        75\n",
       "4  tt0069049            6.7      7793"
      ]
     },
     "execution_count": 86,
     "metadata": {},
     "output_type": "execute_result"
    }
   ],
   "source": [
    "# Open saved file and preview again\n",
    "df_tr = pd.read_csv(\"Data/title.ratings.tsv.gz\", low_memory = False)\n",
    "df_tr.head()"
   ]
  },
  {
   "cell_type": "markdown",
   "id": "ba976a9f",
   "metadata": {},
   "source": [
    "#### Replace \"\\N\" with np.nan"
   ]
  },
  {
   "cell_type": "code",
   "execution_count": null,
   "id": "caa83f29",
   "metadata": {},
   "outputs": [],
   "source": [
    "#Replace and make permanent\n",
    "df_tr.replace({'\\\\N':np.nan}, inplace =True)"
   ]
  },
  {
   "cell_type": "markdown",
   "id": "dd9e860a",
   "metadata": {},
   "source": [
    "#### Keep only movies that were included in your final title basics dataframe"
   ]
  },
  {
   "cell_type": "code",
   "execution_count": 83,
   "id": "0f5a5c5d",
   "metadata": {},
   "outputs": [
    {
     "data": {
      "text/plain": [
       "0          False\n",
       "1          False\n",
       "4          False\n",
       "5          False\n",
       "6          False\n",
       "           ...  \n",
       "1339554     True\n",
       "1339555     True\n",
       "1339562     True\n",
       "1339563     True\n",
       "1339568    False\n",
       "Name: tconst, Length: 505066, dtype: bool"
      ]
     },
     "execution_count": 83,
     "metadata": {},
     "output_type": "execute_result"
    }
   ],
   "source": [
    "# Filter the basics table down to only include the US by using the filter akas dataframe\n",
    "keepers_tr =df_tr['tconst'].isin(df_tb['tconst'])\n",
    "keepers_tr"
   ]
  },
  {
   "cell_type": "code",
   "execution_count": 84,
   "id": "66cceae6",
   "metadata": {},
   "outputs": [
    {
     "data": {
      "text/html": [
       "<div>\n",
       "<style scoped>\n",
       "    .dataframe tbody tr th:only-of-type {\n",
       "        vertical-align: middle;\n",
       "    }\n",
       "\n",
       "    .dataframe tbody tr th {\n",
       "        vertical-align: top;\n",
       "    }\n",
       "\n",
       "    .dataframe thead th {\n",
       "        text-align: right;\n",
       "    }\n",
       "</style>\n",
       "<table border=\"1\" class=\"dataframe\">\n",
       "  <thead>\n",
       "    <tr style=\"text-align: right;\">\n",
       "      <th></th>\n",
       "      <th>tconst</th>\n",
       "      <th>averageRating</th>\n",
       "      <th>numVotes</th>\n",
       "    </tr>\n",
       "  </thead>\n",
       "  <tbody>\n",
       "    <tr>\n",
       "      <th>17882</th>\n",
       "      <td>tt0035423</td>\n",
       "      <td>6.4</td>\n",
       "      <td>87333</td>\n",
       "    </tr>\n",
       "    <tr>\n",
       "      <th>30227</th>\n",
       "      <td>tt0050396</td>\n",
       "      <td>4.6</td>\n",
       "      <td>212</td>\n",
       "    </tr>\n",
       "    <tr>\n",
       "      <th>40632</th>\n",
       "      <td>tt0062336</td>\n",
       "      <td>6.4</td>\n",
       "      <td>179</td>\n",
       "    </tr>\n",
       "    <tr>\n",
       "      <th>46345</th>\n",
       "      <td>tt0068865</td>\n",
       "      <td>5.4</td>\n",
       "      <td>75</td>\n",
       "    </tr>\n",
       "    <tr>\n",
       "      <th>46502</th>\n",
       "      <td>tt0069049</td>\n",
       "      <td>6.7</td>\n",
       "      <td>7793</td>\n",
       "    </tr>\n",
       "    <tr>\n",
       "      <th>...</th>\n",
       "      <td>...</td>\n",
       "      <td>...</td>\n",
       "      <td>...</td>\n",
       "    </tr>\n",
       "    <tr>\n",
       "      <th>1339552</th>\n",
       "      <td>tt9916190</td>\n",
       "      <td>3.7</td>\n",
       "      <td>243</td>\n",
       "    </tr>\n",
       "    <tr>\n",
       "      <th>1339554</th>\n",
       "      <td>tt9916200</td>\n",
       "      <td>8.1</td>\n",
       "      <td>233</td>\n",
       "    </tr>\n",
       "    <tr>\n",
       "      <th>1339555</th>\n",
       "      <td>tt9916204</td>\n",
       "      <td>8.1</td>\n",
       "      <td>267</td>\n",
       "    </tr>\n",
       "    <tr>\n",
       "      <th>1339562</th>\n",
       "      <td>tt9916348</td>\n",
       "      <td>8.3</td>\n",
       "      <td>18</td>\n",
       "    </tr>\n",
       "    <tr>\n",
       "      <th>1339563</th>\n",
       "      <td>tt9916362</td>\n",
       "      <td>6.4</td>\n",
       "      <td>5481</td>\n",
       "    </tr>\n",
       "  </tbody>\n",
       "</table>\n",
       "<p>198945 rows × 3 columns</p>\n",
       "</div>"
      ],
      "text/plain": [
       "            tconst  averageRating  numVotes\n",
       "17882    tt0035423            6.4     87333\n",
       "30227    tt0050396            4.6       212\n",
       "40632    tt0062336            6.4       179\n",
       "46345    tt0068865            5.4        75\n",
       "46502    tt0069049            6.7      7793\n",
       "...            ...            ...       ...\n",
       "1339552  tt9916190            3.7       243\n",
       "1339554  tt9916200            8.1       233\n",
       "1339555  tt9916204            8.1       267\n",
       "1339562  tt9916348            8.3        18\n",
       "1339563  tt9916362            6.4      5481\n",
       "\n",
       "[198945 rows x 3 columns]"
      ]
     },
     "execution_count": 84,
     "metadata": {},
     "output_type": "execute_result"
    }
   ],
   "source": [
    "df_tr = df_tr[keepers_tr]\n",
    "df_tr"
   ]
  },
  {
   "cell_type": "markdown",
   "id": "0fac2d4a",
   "metadata": {},
   "source": [
    "### Cleaning Title Basics \n"
   ]
  },
  {
   "cell_type": "code",
   "execution_count": 48,
   "id": "05b3d878",
   "metadata": {},
   "outputs": [
    {
     "data": {
      "text/html": [
       "<div>\n",
       "<style scoped>\n",
       "    .dataframe tbody tr th:only-of-type {\n",
       "        vertical-align: middle;\n",
       "    }\n",
       "\n",
       "    .dataframe tbody tr th {\n",
       "        vertical-align: top;\n",
       "    }\n",
       "\n",
       "    .dataframe thead th {\n",
       "        text-align: right;\n",
       "    }\n",
       "</style>\n",
       "<table border=\"1\" class=\"dataframe\">\n",
       "  <thead>\n",
       "    <tr style=\"text-align: right;\">\n",
       "      <th></th>\n",
       "      <th>tconst</th>\n",
       "      <th>titleType</th>\n",
       "      <th>primaryTitle</th>\n",
       "      <th>originalTitle</th>\n",
       "      <th>isAdult</th>\n",
       "      <th>startYear</th>\n",
       "      <th>endYear</th>\n",
       "      <th>runtimeMinutes</th>\n",
       "      <th>genres</th>\n",
       "    </tr>\n",
       "  </thead>\n",
       "  <tbody>\n",
       "    <tr>\n",
       "      <th>0</th>\n",
       "      <td>tt0000001</td>\n",
       "      <td>short</td>\n",
       "      <td>Carmencita</td>\n",
       "      <td>Carmencita</td>\n",
       "      <td>0</td>\n",
       "      <td>1894</td>\n",
       "      <td>\\N</td>\n",
       "      <td>1</td>\n",
       "      <td>Documentary,Short</td>\n",
       "    </tr>\n",
       "    <tr>\n",
       "      <th>1</th>\n",
       "      <td>tt0000002</td>\n",
       "      <td>short</td>\n",
       "      <td>Le clown et ses chiens</td>\n",
       "      <td>Le clown et ses chiens</td>\n",
       "      <td>0</td>\n",
       "      <td>1892</td>\n",
       "      <td>\\N</td>\n",
       "      <td>5</td>\n",
       "      <td>Animation,Short</td>\n",
       "    </tr>\n",
       "    <tr>\n",
       "      <th>2</th>\n",
       "      <td>tt0000003</td>\n",
       "      <td>short</td>\n",
       "      <td>Pauvre Pierrot</td>\n",
       "      <td>Pauvre Pierrot</td>\n",
       "      <td>0</td>\n",
       "      <td>1892</td>\n",
       "      <td>\\N</td>\n",
       "      <td>4</td>\n",
       "      <td>Animation,Comedy,Romance</td>\n",
       "    </tr>\n",
       "    <tr>\n",
       "      <th>3</th>\n",
       "      <td>tt0000004</td>\n",
       "      <td>short</td>\n",
       "      <td>Un bon bock</td>\n",
       "      <td>Un bon bock</td>\n",
       "      <td>0</td>\n",
       "      <td>1892</td>\n",
       "      <td>\\N</td>\n",
       "      <td>12</td>\n",
       "      <td>Animation,Short</td>\n",
       "    </tr>\n",
       "    <tr>\n",
       "      <th>4</th>\n",
       "      <td>tt0000005</td>\n",
       "      <td>short</td>\n",
       "      <td>Blacksmith Scene</td>\n",
       "      <td>Blacksmith Scene</td>\n",
       "      <td>0</td>\n",
       "      <td>1893</td>\n",
       "      <td>\\N</td>\n",
       "      <td>1</td>\n",
       "      <td>Comedy,Short</td>\n",
       "    </tr>\n",
       "  </tbody>\n",
       "</table>\n",
       "</div>"
      ],
      "text/plain": [
       "      tconst titleType            primaryTitle           originalTitle  \\\n",
       "0  tt0000001     short              Carmencita              Carmencita   \n",
       "1  tt0000002     short  Le clown et ses chiens  Le clown et ses chiens   \n",
       "2  tt0000003     short          Pauvre Pierrot          Pauvre Pierrot   \n",
       "3  tt0000004     short             Un bon bock             Un bon bock   \n",
       "4  tt0000005     short        Blacksmith Scene        Blacksmith Scene   \n",
       "\n",
       "  isAdult startYear endYear runtimeMinutes                    genres  \n",
       "0       0      1894      \\N              1         Documentary,Short  \n",
       "1       0      1892      \\N              5           Animation,Short  \n",
       "2       0      1892      \\N              4  Animation,Comedy,Romance  \n",
       "3       0      1892      \\N             12           Animation,Short  \n",
       "4       0      1893      \\N              1              Comedy,Short  "
      ]
     },
     "execution_count": 48,
     "metadata": {},
     "output_type": "execute_result"
    }
   ],
   "source": [
    "#load tile basics data \n",
    "fpath='Data/title.basics.tsv.gz'\n",
    "df_tb = pd.read_csv(fpath, sep='\\t', low_memory=False)\n",
    "df_tb.head()"
   ]
  },
  {
   "cell_type": "code",
   "execution_count": 87,
   "id": "2300fcc3",
   "metadata": {},
   "outputs": [],
   "source": [
    "## Save current dataframe to file.\n",
    "df_tb.to_csv(\"Data/title.basics.tsv.gz\",compression='gzip',index=False)"
   ]
  },
  {
   "cell_type": "code",
   "execution_count": 88,
   "id": "4636b35d",
   "metadata": {},
   "outputs": [
    {
     "data": {
      "text/html": [
       "<div>\n",
       "<style scoped>\n",
       "    .dataframe tbody tr th:only-of-type {\n",
       "        vertical-align: middle;\n",
       "    }\n",
       "\n",
       "    .dataframe tbody tr th {\n",
       "        vertical-align: top;\n",
       "    }\n",
       "\n",
       "    .dataframe thead th {\n",
       "        text-align: right;\n",
       "    }\n",
       "</style>\n",
       "<table border=\"1\" class=\"dataframe\">\n",
       "  <thead>\n",
       "    <tr style=\"text-align: right;\">\n",
       "      <th></th>\n",
       "      <th>tconst</th>\n",
       "      <th>titleType</th>\n",
       "      <th>primaryTitle</th>\n",
       "      <th>originalTitle</th>\n",
       "      <th>isAdult</th>\n",
       "      <th>startYear</th>\n",
       "      <th>endYear</th>\n",
       "      <th>runtimeMinutes</th>\n",
       "      <th>genres</th>\n",
       "    </tr>\n",
       "  </thead>\n",
       "  <tbody>\n",
       "    <tr>\n",
       "      <th>0</th>\n",
       "      <td>tt0034413</td>\n",
       "      <td>short</td>\n",
       "      <td>Youth Gets a Break</td>\n",
       "      <td>Youth Gets a Break</td>\n",
       "      <td>0</td>\n",
       "      <td>2001</td>\n",
       "      <td>NaN</td>\n",
       "      <td>20</td>\n",
       "      <td>Short</td>\n",
       "    </tr>\n",
       "    <tr>\n",
       "      <th>1</th>\n",
       "      <td>tt0035423</td>\n",
       "      <td>movie</td>\n",
       "      <td>Kate &amp; Leopold</td>\n",
       "      <td>Kate &amp; Leopold</td>\n",
       "      <td>0</td>\n",
       "      <td>2001</td>\n",
       "      <td>NaN</td>\n",
       "      <td>118</td>\n",
       "      <td>Comedy,Fantasy,Romance</td>\n",
       "    </tr>\n",
       "    <tr>\n",
       "      <th>2</th>\n",
       "      <td>tt0050396</td>\n",
       "      <td>short</td>\n",
       "      <td>Final Curtain</td>\n",
       "      <td>Final Curtain</td>\n",
       "      <td>0</td>\n",
       "      <td>2012</td>\n",
       "      <td>NaN</td>\n",
       "      <td>20</td>\n",
       "      <td>Horror,Short</td>\n",
       "    </tr>\n",
       "    <tr>\n",
       "      <th>3</th>\n",
       "      <td>tt0062336</td>\n",
       "      <td>movie</td>\n",
       "      <td>The Tango of the Widower and Its Distorting Mi...</td>\n",
       "      <td>El tango del viudo y su espejo deformante</td>\n",
       "      <td>0</td>\n",
       "      <td>2020</td>\n",
       "      <td>NaN</td>\n",
       "      <td>70</td>\n",
       "      <td>Drama</td>\n",
       "    </tr>\n",
       "    <tr>\n",
       "      <th>4</th>\n",
       "      <td>tt0068865</td>\n",
       "      <td>movie</td>\n",
       "      <td>Lives of Performers</td>\n",
       "      <td>Lives of Performers</td>\n",
       "      <td>0</td>\n",
       "      <td>2016</td>\n",
       "      <td>NaN</td>\n",
       "      <td>90</td>\n",
       "      <td>Drama</td>\n",
       "    </tr>\n",
       "  </tbody>\n",
       "</table>\n",
       "</div>"
      ],
      "text/plain": [
       "      tconst titleType                                       primaryTitle  \\\n",
       "0  tt0034413     short                                 Youth Gets a Break   \n",
       "1  tt0035423     movie                                     Kate & Leopold   \n",
       "2  tt0050396     short                                      Final Curtain   \n",
       "3  tt0062336     movie  The Tango of the Widower and Its Distorting Mi...   \n",
       "4  tt0068865     movie                                Lives of Performers   \n",
       "\n",
       "                               originalTitle  isAdult  startYear  endYear  \\\n",
       "0                         Youth Gets a Break        0       2001      NaN   \n",
       "1                             Kate & Leopold        0       2001      NaN   \n",
       "2                              Final Curtain        0       2012      NaN   \n",
       "3  El tango del viudo y su espejo deformante        0       2020      NaN   \n",
       "4                        Lives of Performers        0       2016      NaN   \n",
       "\n",
       "   runtimeMinutes                  genres  \n",
       "0              20                   Short  \n",
       "1             118  Comedy,Fantasy,Romance  \n",
       "2              20            Horror,Short  \n",
       "3              70                   Drama  \n",
       "4              90                   Drama  "
      ]
     },
     "execution_count": 88,
     "metadata": {},
     "output_type": "execute_result"
    }
   ],
   "source": [
    "# Open saved file and preview again\n",
    "df_tb = pd.read_csv(\"Data/title.basics.tsv.gz\", low_memory = False)\n",
    "df_tb.head()"
   ]
  },
  {
   "cell_type": "code",
   "execution_count": 49,
   "id": "9b064151",
   "metadata": {},
   "outputs": [
    {
     "name": "stdout",
     "output_type": "stream",
     "text": [
      "<class 'pandas.core.frame.DataFrame'>\n",
      "RangeIndex: 10094451 entries, 0 to 10094450\n",
      "Data columns (total 9 columns):\n",
      " #   Column          Dtype \n",
      "---  ------          ----- \n",
      " 0   tconst          object\n",
      " 1   titleType       object\n",
      " 2   primaryTitle    object\n",
      " 3   originalTitle   object\n",
      " 4   isAdult         object\n",
      " 5   startYear       object\n",
      " 6   endYear         object\n",
      " 7   runtimeMinutes  object\n",
      " 8   genres          object\n",
      "dtypes: object(9)\n",
      "memory usage: 693.1+ MB\n"
     ]
    }
   ],
   "source": [
    "df_tb.info()"
   ]
  },
  {
   "cell_type": "markdown",
   "id": "85f8b257",
   "metadata": {},
   "source": [
    "#### Keep only US movies "
   ]
  },
  {
   "cell_type": "code",
   "execution_count": 80,
   "id": "bc9b7ba4",
   "metadata": {},
   "outputs": [
    {
     "data": {
      "text/plain": [
       "33800        True\n",
       "34800        True\n",
       "49491        True\n",
       "59199       False\n",
       "61112        True\n",
       "            ...  \n",
       "10094391    False\n",
       "10094407    False\n",
       "10094442    False\n",
       "10094449    False\n",
       "10094450    False\n",
       "Name: tconst, Length: 1455716, dtype: bool"
      ]
     },
     "execution_count": 80,
     "metadata": {},
     "output_type": "execute_result"
    }
   ],
   "source": [
    "# Filter the basics table down to only include the US by using the filter akas dataframe\n",
    "keepers_tb =df_tb['tconst'].isin(df['titleId'])\n",
    "keepers_tb"
   ]
  },
  {
   "cell_type": "code",
   "execution_count": 81,
   "id": "19e331dc",
   "metadata": {},
   "outputs": [
    {
     "data": {
      "text/html": [
       "<div>\n",
       "<style scoped>\n",
       "    .dataframe tbody tr th:only-of-type {\n",
       "        vertical-align: middle;\n",
       "    }\n",
       "\n",
       "    .dataframe tbody tr th {\n",
       "        vertical-align: top;\n",
       "    }\n",
       "\n",
       "    .dataframe thead th {\n",
       "        text-align: right;\n",
       "    }\n",
       "</style>\n",
       "<table border=\"1\" class=\"dataframe\">\n",
       "  <thead>\n",
       "    <tr style=\"text-align: right;\">\n",
       "      <th></th>\n",
       "      <th>tconst</th>\n",
       "      <th>titleType</th>\n",
       "      <th>primaryTitle</th>\n",
       "      <th>originalTitle</th>\n",
       "      <th>isAdult</th>\n",
       "      <th>startYear</th>\n",
       "      <th>endYear</th>\n",
       "      <th>runtimeMinutes</th>\n",
       "      <th>genres</th>\n",
       "    </tr>\n",
       "  </thead>\n",
       "  <tbody>\n",
       "    <tr>\n",
       "      <th>33800</th>\n",
       "      <td>tt0034413</td>\n",
       "      <td>short</td>\n",
       "      <td>Youth Gets a Break</td>\n",
       "      <td>Youth Gets a Break</td>\n",
       "      <td>0</td>\n",
       "      <td>2001</td>\n",
       "      <td>NaN</td>\n",
       "      <td>20</td>\n",
       "      <td>Short</td>\n",
       "    </tr>\n",
       "    <tr>\n",
       "      <th>34800</th>\n",
       "      <td>tt0035423</td>\n",
       "      <td>movie</td>\n",
       "      <td>Kate &amp; Leopold</td>\n",
       "      <td>Kate &amp; Leopold</td>\n",
       "      <td>0</td>\n",
       "      <td>2001</td>\n",
       "      <td>NaN</td>\n",
       "      <td>118</td>\n",
       "      <td>Comedy,Fantasy,Romance</td>\n",
       "    </tr>\n",
       "    <tr>\n",
       "      <th>49491</th>\n",
       "      <td>tt0050396</td>\n",
       "      <td>short</td>\n",
       "      <td>Final Curtain</td>\n",
       "      <td>Final Curtain</td>\n",
       "      <td>0</td>\n",
       "      <td>2012</td>\n",
       "      <td>NaN</td>\n",
       "      <td>20</td>\n",
       "      <td>Horror,Short</td>\n",
       "    </tr>\n",
       "    <tr>\n",
       "      <th>61112</th>\n",
       "      <td>tt0062336</td>\n",
       "      <td>movie</td>\n",
       "      <td>The Tango of the Widower and Its Distorting Mi...</td>\n",
       "      <td>El tango del viudo y su espejo deformante</td>\n",
       "      <td>0</td>\n",
       "      <td>2020</td>\n",
       "      <td>NaN</td>\n",
       "      <td>70</td>\n",
       "      <td>Drama</td>\n",
       "    </tr>\n",
       "    <tr>\n",
       "      <th>67486</th>\n",
       "      <td>tt0068865</td>\n",
       "      <td>movie</td>\n",
       "      <td>Lives of Performers</td>\n",
       "      <td>Lives of Performers</td>\n",
       "      <td>0</td>\n",
       "      <td>2016</td>\n",
       "      <td>NaN</td>\n",
       "      <td>90</td>\n",
       "      <td>Drama</td>\n",
       "    </tr>\n",
       "    <tr>\n",
       "      <th>...</th>\n",
       "      <td>...</td>\n",
       "      <td>...</td>\n",
       "      <td>...</td>\n",
       "      <td>...</td>\n",
       "      <td>...</td>\n",
       "      <td>...</td>\n",
       "      <td>...</td>\n",
       "      <td>...</td>\n",
       "      <td>...</td>\n",
       "    </tr>\n",
       "    <tr>\n",
       "      <th>10094139</th>\n",
       "      <td>tt9916204</td>\n",
       "      <td>tvEpisode</td>\n",
       "      <td>Better Angels</td>\n",
       "      <td>Better Angels</td>\n",
       "      <td>0</td>\n",
       "      <td>2019</td>\n",
       "      <td>NaN</td>\n",
       "      <td>42</td>\n",
       "      <td>Drama,Thriller</td>\n",
       "    </tr>\n",
       "    <tr>\n",
       "      <th>10094144</th>\n",
       "      <td>tt9916214</td>\n",
       "      <td>short</td>\n",
       "      <td>Drown the Clown</td>\n",
       "      <td>Drown the Clown</td>\n",
       "      <td>0</td>\n",
       "      <td>2019</td>\n",
       "      <td>NaN</td>\n",
       "      <td>8</td>\n",
       "      <td>Drama,Short</td>\n",
       "    </tr>\n",
       "    <tr>\n",
       "      <th>10094164</th>\n",
       "      <td>tt9916254</td>\n",
       "      <td>video</td>\n",
       "      <td>Big Tit Cream Pie 32</td>\n",
       "      <td>Big Tit Cream Pie 32</td>\n",
       "      <td>1</td>\n",
       "      <td>2015</td>\n",
       "      <td>NaN</td>\n",
       "      <td>226</td>\n",
       "      <td>Adult</td>\n",
       "    </tr>\n",
       "    <tr>\n",
       "      <th>10094210</th>\n",
       "      <td>tt9916348</td>\n",
       "      <td>video</td>\n",
       "      <td>Ancient World Exposed</td>\n",
       "      <td>Ancient World Exposed</td>\n",
       "      <td>0</td>\n",
       "      <td>2019</td>\n",
       "      <td>NaN</td>\n",
       "      <td>67</td>\n",
       "      <td>History</td>\n",
       "    </tr>\n",
       "    <tr>\n",
       "      <th>10094217</th>\n",
       "      <td>tt9916362</td>\n",
       "      <td>movie</td>\n",
       "      <td>Coven</td>\n",
       "      <td>Akelarre</td>\n",
       "      <td>0</td>\n",
       "      <td>2020</td>\n",
       "      <td>NaN</td>\n",
       "      <td>92</td>\n",
       "      <td>Drama,History</td>\n",
       "    </tr>\n",
       "  </tbody>\n",
       "</table>\n",
       "<p>465885 rows × 9 columns</p>\n",
       "</div>"
      ],
      "text/plain": [
       "             tconst  titleType  \\\n",
       "33800     tt0034413      short   \n",
       "34800     tt0035423      movie   \n",
       "49491     tt0050396      short   \n",
       "61112     tt0062336      movie   \n",
       "67486     tt0068865      movie   \n",
       "...             ...        ...   \n",
       "10094139  tt9916204  tvEpisode   \n",
       "10094144  tt9916214      short   \n",
       "10094164  tt9916254      video   \n",
       "10094210  tt9916348      video   \n",
       "10094217  tt9916362      movie   \n",
       "\n",
       "                                               primaryTitle  \\\n",
       "33800                                    Youth Gets a Break   \n",
       "34800                                        Kate & Leopold   \n",
       "49491                                         Final Curtain   \n",
       "61112     The Tango of the Widower and Its Distorting Mi...   \n",
       "67486                                   Lives of Performers   \n",
       "...                                                     ...   \n",
       "10094139                                      Better Angels   \n",
       "10094144                                    Drown the Clown   \n",
       "10094164                               Big Tit Cream Pie 32   \n",
       "10094210                              Ancient World Exposed   \n",
       "10094217                                              Coven   \n",
       "\n",
       "                                      originalTitle isAdult startYear endYear  \\\n",
       "33800                            Youth Gets a Break       0      2001     NaN   \n",
       "34800                                Kate & Leopold       0      2001     NaN   \n",
       "49491                                 Final Curtain       0      2012     NaN   \n",
       "61112     El tango del viudo y su espejo deformante       0      2020     NaN   \n",
       "67486                           Lives of Performers       0      2016     NaN   \n",
       "...                                             ...     ...       ...     ...   \n",
       "10094139                              Better Angels       0      2019     NaN   \n",
       "10094144                            Drown the Clown       0      2019     NaN   \n",
       "10094164                       Big Tit Cream Pie 32       1      2015     NaN   \n",
       "10094210                      Ancient World Exposed       0      2019     NaN   \n",
       "10094217                                   Akelarre       0      2020     NaN   \n",
       "\n",
       "         runtimeMinutes                  genres  \n",
       "33800                20                   Short  \n",
       "34800               118  Comedy,Fantasy,Romance  \n",
       "49491                20            Horror,Short  \n",
       "61112                70                   Drama  \n",
       "67486                90                   Drama  \n",
       "...                 ...                     ...  \n",
       "10094139             42          Drama,Thriller  \n",
       "10094144              8             Drama,Short  \n",
       "10094164            226                   Adult  \n",
       "10094210             67                 History  \n",
       "10094217             92           Drama,History  \n",
       "\n",
       "[465885 rows x 9 columns]"
      ]
     },
     "execution_count": 81,
     "metadata": {},
     "output_type": "execute_result"
    }
   ],
   "source": [
    "df_tb = df_tb[keepers_tb]\n",
    "df_tb"
   ]
  },
  {
   "cell_type": "markdown",
   "id": "3eda5544",
   "metadata": {},
   "source": [
    "####  Replace \"\\N\" with np.nan"
   ]
  },
  {
   "cell_type": "code",
   "execution_count": 50,
   "id": "17756d4f",
   "metadata": {},
   "outputs": [],
   "source": [
    "#Replace and make permanent\n",
    "df_tb.replace({'\\\\N':np.nan}, inplace =True)"
   ]
  },
  {
   "cell_type": "markdown",
   "id": "e0375d46",
   "metadata": {},
   "source": [
    "#### Eliminate movies that are null for runtimeMinutes"
   ]
  },
  {
   "cell_type": "code",
   "execution_count": 51,
   "id": "60ba62d9",
   "metadata": {},
   "outputs": [
    {
     "data": {
      "text/plain": [
       "7083914"
      ]
     },
     "execution_count": 51,
     "metadata": {},
     "output_type": "execute_result"
    }
   ],
   "source": [
    "#Check for missing values \n",
    "df_tb['runtimeMinutes'].isna().sum()"
   ]
  },
  {
   "cell_type": "code",
   "execution_count": 53,
   "id": "201518f8",
   "metadata": {},
   "outputs": [
    {
     "data": {
      "text/plain": [
       "0"
      ]
     },
     "execution_count": 53,
     "metadata": {},
     "output_type": "execute_result"
    }
   ],
   "source": [
    "#Drop missing values from genres \n",
    "df_tb.dropna(subset=['runtimeMinutes'], inplace=True)\n",
    "#Verify missing values were removed \n",
    "df_tb['runtimeMinutes'].isna().sum()"
   ]
  },
  {
   "cell_type": "markdown",
   "id": "68c9c89d",
   "metadata": {},
   "source": [
    "#### Eliminate movies that are null for genre"
   ]
  },
  {
   "cell_type": "code",
   "execution_count": 26,
   "id": "8ec40a69",
   "metadata": {},
   "outputs": [
    {
     "data": {
      "text/plain": [
       "17"
      ]
     },
     "execution_count": 26,
     "metadata": {},
     "output_type": "execute_result"
    }
   ],
   "source": [
    "#Check for missing values \n",
    "df_tb['genres'].isna().sum()"
   ]
  },
  {
   "cell_type": "code",
   "execution_count": 33,
   "id": "91a2ee21",
   "metadata": {},
   "outputs": [],
   "source": [
    "#Drop missing values from genres \n",
    "df_tb.dropna(subset=['genres'], inplace=True)\n",
    "\n",
    "#Verify missing values removed \n",
    "df_tb['genres'].isna().sum()"
   ]
  },
  {
   "cell_type": "markdown",
   "id": "6fb9b504",
   "metadata": {},
   "source": [
    "#### Keep only titleType==Movie"
   ]
  },
  {
   "cell_type": "code",
   "execution_count": 38,
   "id": "fa47b476",
   "metadata": {},
   "outputs": [
    {
     "data": {
      "text/plain": [
       "tvEpisode       7684171\n",
       "short            947157\n",
       "movie            654573\n",
       "video            279177\n",
       "tvSeries         248018\n",
       "tvMovie          142728\n",
       "tvMiniSeries      50056\n",
       "tvSpecial         42863\n",
       "videoGame         35680\n",
       "tvShort           10010\n",
       "tvPilot               1\n",
       "Name: titleType, dtype: int64"
      ]
     },
     "execution_count": 38,
     "metadata": {},
     "output_type": "execute_result"
    }
   ],
   "source": [
    "#Check different title types \n",
    "df_tb['titleType'].value_counts()"
   ]
  },
  {
   "cell_type": "code",
   "execution_count": 39,
   "id": "d9070c54",
   "metadata": {},
   "outputs": [
    {
     "data": {
      "text/plain": [
       "movie    654573\n",
       "Name: titleType, dtype: int64"
      ]
     },
     "execution_count": 39,
     "metadata": {},
     "output_type": "execute_result"
    }
   ],
   "source": [
    "#Keep only movie titles \n",
    "remove_type = ['tvEpisode', 'short', 'video', 'tvSeries', 'tvMovie', \n",
    "               'tvMiniSeries', 'tvSpecial','videoGame', 'tvShort','tvPilot']\n",
    "df_tb = df_tb[df_tb['titleType'].isin(remove_type) == False]\n",
    "df_tb['titleType'].value_counts()"
   ]
  },
  {
   "cell_type": "markdown",
   "id": "f5936a8d",
   "metadata": {},
   "source": [
    "#### Convert the startYear column to float data type"
   ]
  },
  {
   "cell_type": "code",
   "execution_count": 57,
   "id": "f92846c0",
   "metadata": {},
   "outputs": [
    {
     "data": {
      "text/plain": [
       "dtype('O')"
      ]
     },
     "execution_count": 57,
     "metadata": {},
     "output_type": "execute_result"
    }
   ],
   "source": [
    "#Check data type\n",
    "df_tb['startYear'].dtypes"
   ]
  },
  {
   "cell_type": "code",
   "execution_count": 54,
   "id": "6b99aead",
   "metadata": {
    "scrolled": true
   },
   "outputs": [
    {
     "data": {
      "text/plain": [
       "2017    138669\n",
       "2018    136882\n",
       "2016    130926\n",
       "2019    125376\n",
       "2015    125245\n",
       "         ...  \n",
       "1889         2\n",
       "2029         2\n",
       "1874         1\n",
       "1883         1\n",
       "1885         1\n",
       "Name: startYear, Length: 149, dtype: int64"
      ]
     },
     "execution_count": 54,
     "metadata": {},
     "output_type": "execute_result"
    }
   ],
   "source": [
    "#Check values for startYear \n",
    "df_tb['startYear'].value_counts()"
   ]
  },
  {
   "cell_type": "code",
   "execution_count": 58,
   "id": "7b78888e",
   "metadata": {},
   "outputs": [
    {
     "data": {
      "text/plain": [
       "0           1894.0\n",
       "1           1892.0\n",
       "2           1892.0\n",
       "3           1892.0\n",
       "4           1893.0\n",
       "             ...  \n",
       "10094401    2013.0\n",
       "10094407    2019.0\n",
       "10094442    2014.0\n",
       "10094449    2015.0\n",
       "10094450    2014.0\n",
       "Name: startYear, Length: 3010537, dtype: float64"
      ]
     },
     "execution_count": 58,
     "metadata": {},
     "output_type": "execute_result"
    }
   ],
   "source": [
    "#Change datatype \n",
    "df_tb['startYear'].astype(float)"
   ]
  },
  {
   "cell_type": "markdown",
   "id": "2aa1cc5f",
   "metadata": {},
   "source": [
    "#### Filter the dataframe using startYear. Keep years between 2000-2021 (Including 2000 and 2021)"
   ]
  },
  {
   "cell_type": "code",
   "execution_count": 62,
   "id": "43007aa4",
   "metadata": {},
   "outputs": [
    {
     "data": {
      "text/html": [
       "<div>\n",
       "<style scoped>\n",
       "    .dataframe tbody tr th:only-of-type {\n",
       "        vertical-align: middle;\n",
       "    }\n",
       "\n",
       "    .dataframe tbody tr th {\n",
       "        vertical-align: top;\n",
       "    }\n",
       "\n",
       "    .dataframe thead th {\n",
       "        text-align: right;\n",
       "    }\n",
       "</style>\n",
       "<table border=\"1\" class=\"dataframe\">\n",
       "  <thead>\n",
       "    <tr style=\"text-align: right;\">\n",
       "      <th></th>\n",
       "      <th>tconst</th>\n",
       "      <th>titleType</th>\n",
       "      <th>primaryTitle</th>\n",
       "      <th>originalTitle</th>\n",
       "      <th>isAdult</th>\n",
       "      <th>startYear</th>\n",
       "      <th>endYear</th>\n",
       "      <th>runtimeMinutes</th>\n",
       "      <th>genres</th>\n",
       "    </tr>\n",
       "  </thead>\n",
       "  <tbody>\n",
       "    <tr>\n",
       "      <th>33800</th>\n",
       "      <td>tt0034413</td>\n",
       "      <td>short</td>\n",
       "      <td>Youth Gets a Break</td>\n",
       "      <td>Youth Gets a Break</td>\n",
       "      <td>0</td>\n",
       "      <td>2001</td>\n",
       "      <td>NaN</td>\n",
       "      <td>20</td>\n",
       "      <td>Short</td>\n",
       "    </tr>\n",
       "    <tr>\n",
       "      <th>34800</th>\n",
       "      <td>tt0035423</td>\n",
       "      <td>movie</td>\n",
       "      <td>Kate &amp; Leopold</td>\n",
       "      <td>Kate &amp; Leopold</td>\n",
       "      <td>0</td>\n",
       "      <td>2001</td>\n",
       "      <td>NaN</td>\n",
       "      <td>118</td>\n",
       "      <td>Comedy,Fantasy,Romance</td>\n",
       "    </tr>\n",
       "    <tr>\n",
       "      <th>49491</th>\n",
       "      <td>tt0050396</td>\n",
       "      <td>short</td>\n",
       "      <td>Final Curtain</td>\n",
       "      <td>Final Curtain</td>\n",
       "      <td>0</td>\n",
       "      <td>2012</td>\n",
       "      <td>NaN</td>\n",
       "      <td>20</td>\n",
       "      <td>Horror,Short</td>\n",
       "    </tr>\n",
       "    <tr>\n",
       "      <th>59199</th>\n",
       "      <td>tt0060361</td>\n",
       "      <td>short</td>\n",
       "      <td>EMS nr 1</td>\n",
       "      <td>EMS nr 1</td>\n",
       "      <td>0</td>\n",
       "      <td>2016</td>\n",
       "      <td>NaN</td>\n",
       "      <td>14</td>\n",
       "      <td>Short</td>\n",
       "    </tr>\n",
       "    <tr>\n",
       "      <th>59204</th>\n",
       "      <td>tt0060366</td>\n",
       "      <td>short</td>\n",
       "      <td>A Embalagem de Vidro</td>\n",
       "      <td>A Embalagem de Vidro</td>\n",
       "      <td>0</td>\n",
       "      <td>2020</td>\n",
       "      <td>NaN</td>\n",
       "      <td>11</td>\n",
       "      <td>Documentary,Short</td>\n",
       "    </tr>\n",
       "    <tr>\n",
       "      <th>...</th>\n",
       "      <td>...</td>\n",
       "      <td>...</td>\n",
       "      <td>...</td>\n",
       "      <td>...</td>\n",
       "      <td>...</td>\n",
       "      <td>...</td>\n",
       "      <td>...</td>\n",
       "      <td>...</td>\n",
       "      <td>...</td>\n",
       "    </tr>\n",
       "    <tr>\n",
       "      <th>10094401</th>\n",
       "      <td>tt9916754</td>\n",
       "      <td>movie</td>\n",
       "      <td>Chico Albuquerque - Revelações</td>\n",
       "      <td>Chico Albuquerque - Revelações</td>\n",
       "      <td>0</td>\n",
       "      <td>2013</td>\n",
       "      <td>NaN</td>\n",
       "      <td>49</td>\n",
       "      <td>Documentary</td>\n",
       "    </tr>\n",
       "    <tr>\n",
       "      <th>10094407</th>\n",
       "      <td>tt9916766</td>\n",
       "      <td>tvEpisode</td>\n",
       "      <td>Episode #10.15</td>\n",
       "      <td>Episode #10.15</td>\n",
       "      <td>0</td>\n",
       "      <td>2019</td>\n",
       "      <td>NaN</td>\n",
       "      <td>43</td>\n",
       "      <td>Family,Game-Show,Reality-TV</td>\n",
       "    </tr>\n",
       "    <tr>\n",
       "      <th>10094442</th>\n",
       "      <td>tt9916840</td>\n",
       "      <td>tvEpisode</td>\n",
       "      <td>Horrid Henry's Comic Caper</td>\n",
       "      <td>Horrid Henry's Comic Caper</td>\n",
       "      <td>0</td>\n",
       "      <td>2014</td>\n",
       "      <td>NaN</td>\n",
       "      <td>11</td>\n",
       "      <td>Adventure,Animation,Comedy</td>\n",
       "    </tr>\n",
       "    <tr>\n",
       "      <th>10094449</th>\n",
       "      <td>tt9916856</td>\n",
       "      <td>short</td>\n",
       "      <td>The Wind</td>\n",
       "      <td>The Wind</td>\n",
       "      <td>0</td>\n",
       "      <td>2015</td>\n",
       "      <td>NaN</td>\n",
       "      <td>27</td>\n",
       "      <td>Short</td>\n",
       "    </tr>\n",
       "    <tr>\n",
       "      <th>10094450</th>\n",
       "      <td>tt9916880</td>\n",
       "      <td>tvEpisode</td>\n",
       "      <td>Horrid Henry Knows It All</td>\n",
       "      <td>Horrid Henry Knows It All</td>\n",
       "      <td>0</td>\n",
       "      <td>2014</td>\n",
       "      <td>NaN</td>\n",
       "      <td>10</td>\n",
       "      <td>Adventure,Animation,Comedy</td>\n",
       "    </tr>\n",
       "  </tbody>\n",
       "</table>\n",
       "<p>1738517 rows × 9 columns</p>\n",
       "</div>"
      ],
      "text/plain": [
       "             tconst  titleType                    primaryTitle  \\\n",
       "33800     tt0034413      short              Youth Gets a Break   \n",
       "34800     tt0035423      movie                  Kate & Leopold   \n",
       "49491     tt0050396      short                   Final Curtain   \n",
       "59199     tt0060361      short                        EMS nr 1   \n",
       "59204     tt0060366      short            A Embalagem de Vidro   \n",
       "...             ...        ...                             ...   \n",
       "10094401  tt9916754      movie  Chico Albuquerque - Revelações   \n",
       "10094407  tt9916766  tvEpisode                  Episode #10.15   \n",
       "10094442  tt9916840  tvEpisode      Horrid Henry's Comic Caper   \n",
       "10094449  tt9916856      short                        The Wind   \n",
       "10094450  tt9916880  tvEpisode       Horrid Henry Knows It All   \n",
       "\n",
       "                           originalTitle isAdult startYear endYear  \\\n",
       "33800                 Youth Gets a Break       0      2001     NaN   \n",
       "34800                     Kate & Leopold       0      2001     NaN   \n",
       "49491                      Final Curtain       0      2012     NaN   \n",
       "59199                           EMS nr 1       0      2016     NaN   \n",
       "59204               A Embalagem de Vidro       0      2020     NaN   \n",
       "...                                  ...     ...       ...     ...   \n",
       "10094401  Chico Albuquerque - Revelações       0      2013     NaN   \n",
       "10094407                  Episode #10.15       0      2019     NaN   \n",
       "10094442      Horrid Henry's Comic Caper       0      2014     NaN   \n",
       "10094449                        The Wind       0      2015     NaN   \n",
       "10094450       Horrid Henry Knows It All       0      2014     NaN   \n",
       "\n",
       "         runtimeMinutes                       genres  \n",
       "33800                20                        Short  \n",
       "34800               118       Comedy,Fantasy,Romance  \n",
       "49491                20                 Horror,Short  \n",
       "59199                14                        Short  \n",
       "59204                11            Documentary,Short  \n",
       "...                 ...                          ...  \n",
       "10094401             49                  Documentary  \n",
       "10094407             43  Family,Game-Show,Reality-TV  \n",
       "10094442             11   Adventure,Animation,Comedy  \n",
       "10094449             27                        Short  \n",
       "10094450             10   Adventure,Animation,Comedy  \n",
       "\n",
       "[1738517 rows x 9 columns]"
      ]
     },
     "execution_count": 62,
     "metadata": {},
     "output_type": "execute_result"
    }
   ],
   "source": [
    "df_tb_years = df_tb[(df_tb['startYear'] > \"2000\") & (df_tb['startYear'] < \"2021\")]\n",
    "df_tb_years"
   ]
  },
  {
   "cell_type": "markdown",
   "id": "6ee9426d",
   "metadata": {},
   "source": [
    "#### Eliminate movies that include \"Documentary\" in the genre"
   ]
  },
  {
   "cell_type": "code",
   "execution_count": 64,
   "id": "5eadb3c0",
   "metadata": {},
   "outputs": [
    {
     "data": {
      "text/plain": [
       "Documentary                123112\n",
       "Drama                       94284\n",
       "Drama,Short                 92370\n",
       "Comedy                      82552\n",
       "Adult                       75977\n",
       "                            ...  \n",
       "Action,Family,Musical           1\n",
       "Family,Game-Show,Sci-Fi         1\n",
       "Drama,Game-Show,Short           1\n",
       "Biography,Horror                1\n",
       "Biography,Music,News            1\n",
       "Name: genres, Length: 2034, dtype: int64"
      ]
     },
     "execution_count": 64,
     "metadata": {},
     "output_type": "execute_result"
    }
   ],
   "source": [
    "#Check values for genre\n",
    "df_tb['genres'].value_counts()"
   ]
  },
  {
   "cell_type": "code",
   "execution_count": 66,
   "id": "16f8de74",
   "metadata": {},
   "outputs": [
    {
     "ename": "TypeError",
     "evalue": "bad operand type for unary ~: 'float'",
     "output_type": "error",
     "traceback": [
      "\u001b[1;31m---------------------------------------------------------------------------\u001b[0m",
      "\u001b[1;31mTypeError\u001b[0m                                 Traceback (most recent call last)",
      "Cell \u001b[1;32mIn [66], line 3\u001b[0m\n\u001b[0;32m      1\u001b[0m \u001b[38;5;66;03m# Exclude movies that are included in the documentary category.\u001b[39;00m\n\u001b[0;32m      2\u001b[0m is_documentary \u001b[38;5;241m=\u001b[39m df_tb[\u001b[38;5;124m'\u001b[39m\u001b[38;5;124mgenres\u001b[39m\u001b[38;5;124m'\u001b[39m]\u001b[38;5;241m.\u001b[39mstr\u001b[38;5;241m.\u001b[39mcontains(\u001b[38;5;124m'\u001b[39m\u001b[38;5;124mDocumentary\u001b[39m\u001b[38;5;124m'\u001b[39m,case\u001b[38;5;241m=\u001b[39m\u001b[38;5;28;01mFalse\u001b[39;00m)\n\u001b[1;32m----> 3\u001b[0m df_tb \u001b[38;5;241m=\u001b[39m df_tb[\u001b[38;5;241;43m~\u001b[39;49m\u001b[43mis_documentary\u001b[49m]\n",
      "File \u001b[1;32m~\\anaconda3\\envs\\dojo-env\\lib\\site-packages\\pandas\\core\\generic.py:1522\u001b[0m, in \u001b[0;36mNDFrame.__invert__\u001b[1;34m(self)\u001b[0m\n\u001b[0;32m   1518\u001b[0m \u001b[38;5;28;01mif\u001b[39;00m \u001b[38;5;129;01mnot\u001b[39;00m \u001b[38;5;28mself\u001b[39m\u001b[38;5;241m.\u001b[39msize:\n\u001b[0;32m   1519\u001b[0m     \u001b[38;5;66;03m# inv fails with 0 len\u001b[39;00m\n\u001b[0;32m   1520\u001b[0m     \u001b[38;5;28;01mreturn\u001b[39;00m \u001b[38;5;28mself\u001b[39m\n\u001b[1;32m-> 1522\u001b[0m new_data \u001b[38;5;241m=\u001b[39m \u001b[38;5;28;43mself\u001b[39;49m\u001b[38;5;241;43m.\u001b[39;49m\u001b[43m_mgr\u001b[49m\u001b[38;5;241;43m.\u001b[39;49m\u001b[43mapply\u001b[49m\u001b[43m(\u001b[49m\u001b[43moperator\u001b[49m\u001b[38;5;241;43m.\u001b[39;49m\u001b[43minvert\u001b[49m\u001b[43m)\u001b[49m\n\u001b[0;32m   1523\u001b[0m \u001b[38;5;28;01mreturn\u001b[39;00m \u001b[38;5;28mself\u001b[39m\u001b[38;5;241m.\u001b[39m_constructor(new_data)\u001b[38;5;241m.\u001b[39m__finalize__(\u001b[38;5;28mself\u001b[39m, method\u001b[38;5;241m=\u001b[39m\u001b[38;5;124m\"\u001b[39m\u001b[38;5;124m__invert__\u001b[39m\u001b[38;5;124m\"\u001b[39m)\n",
      "File \u001b[1;32m~\\anaconda3\\envs\\dojo-env\\lib\\site-packages\\pandas\\core\\internals\\managers.py:350\u001b[0m, in \u001b[0;36mBaseBlockManager.apply\u001b[1;34m(self, f, align_keys, ignore_failures, **kwargs)\u001b[0m\n\u001b[0;32m    348\u001b[0m \u001b[38;5;28;01mtry\u001b[39;00m:\n\u001b[0;32m    349\u001b[0m     \u001b[38;5;28;01mif\u001b[39;00m callable(f):\n\u001b[1;32m--> 350\u001b[0m         applied \u001b[38;5;241m=\u001b[39m b\u001b[38;5;241m.\u001b[39mapply(f, \u001b[38;5;241m*\u001b[39m\u001b[38;5;241m*\u001b[39mkwargs)\n\u001b[0;32m    351\u001b[0m     \u001b[38;5;28;01melse\u001b[39;00m:\n\u001b[0;32m    352\u001b[0m         applied \u001b[38;5;241m=\u001b[39m \u001b[38;5;28mgetattr\u001b[39m(b, f)(\u001b[38;5;241m*\u001b[39m\u001b[38;5;241m*\u001b[39mkwargs)\n",
      "File \u001b[1;32m~\\anaconda3\\envs\\dojo-env\\lib\\site-packages\\pandas\\core\\internals\\blocks.py:351\u001b[0m, in \u001b[0;36mBlock.apply\u001b[1;34m(self, func, **kwargs)\u001b[0m\n\u001b[0;32m    345\u001b[0m \u001b[38;5;129m@final\u001b[39m\n\u001b[0;32m    346\u001b[0m \u001b[38;5;28;01mdef\u001b[39;00m \u001b[38;5;21mapply\u001b[39m(\u001b[38;5;28mself\u001b[39m, func, \u001b[38;5;241m*\u001b[39m\u001b[38;5;241m*\u001b[39mkwargs) \u001b[38;5;241m-\u001b[39m\u001b[38;5;241m>\u001b[39m \u001b[38;5;28mlist\u001b[39m[Block]:\n\u001b[0;32m    347\u001b[0m     \u001b[38;5;124;03m\"\"\"\u001b[39;00m\n\u001b[0;32m    348\u001b[0m \u001b[38;5;124;03m    apply the function to my values; return a block if we are not\u001b[39;00m\n\u001b[0;32m    349\u001b[0m \u001b[38;5;124;03m    one\u001b[39;00m\n\u001b[0;32m    350\u001b[0m \u001b[38;5;124;03m    \"\"\"\u001b[39;00m\n\u001b[1;32m--> 351\u001b[0m     result \u001b[38;5;241m=\u001b[39m func(\u001b[38;5;28mself\u001b[39m\u001b[38;5;241m.\u001b[39mvalues, \u001b[38;5;241m*\u001b[39m\u001b[38;5;241m*\u001b[39mkwargs)\n\u001b[0;32m    353\u001b[0m     \u001b[38;5;28;01mreturn\u001b[39;00m \u001b[38;5;28mself\u001b[39m\u001b[38;5;241m.\u001b[39m_split_op_result(result)\n",
      "\u001b[1;31mTypeError\u001b[0m: bad operand type for unary ~: 'float'"
     ]
    }
   ],
   "source": [
    "# Exclude movies that are included in the documentary category.\n",
    "is_documentary = df_tb['genres'].str.contains('documentary',case=False)\n",
    "df_tb = df_tb[~is_documentary]\n"
   ]
  },
  {
   "cell_type": "code",
   "execution_count": 67,
   "id": "108c627b",
   "metadata": {},
   "outputs": [
    {
     "data": {
      "text/plain": [
       "dtype('O')"
      ]
     },
     "execution_count": 67,
     "metadata": {},
     "output_type": "execute_result"
    }
   ],
   "source": [
    "#Check data type\n",
    "df_tb['genres'].dtypes"
   ]
  },
  {
   "cell_type": "code",
   "execution_count": 68,
   "id": "bf930351",
   "metadata": {},
   "outputs": [],
   "source": [
    "#Convert genres to string type \n",
    "df_tb['genres'] = df_tb['genres'].astype(str)\n",
    "# Exclude movies that are included in the documentary category.\n",
    "is_documentary = df_tb['genres'].str.contains('documentary',case=False)\n",
    "df_tb = df_tb[~is_documentary]"
   ]
  }
 ],
 "metadata": {
  "kernelspec": {
   "display_name": "Python (dojo-env)",
   "language": "python",
   "name": "dojo-env"
  },
  "language_info": {
   "codemirror_mode": {
    "name": "ipython",
    "version": 3
   },
   "file_extension": ".py",
   "mimetype": "text/x-python",
   "name": "python",
   "nbconvert_exporter": "python",
   "pygments_lexer": "ipython3",
   "version": "3.9.15"
  },
  "toc": {
   "base_numbering": 1,
   "nav_menu": {},
   "number_sections": true,
   "sideBar": true,
   "skip_h1_title": false,
   "title_cell": "Table of Contents",
   "title_sidebar": "Contents",
   "toc_cell": false,
   "toc_position": {},
   "toc_section_display": true,
   "toc_window_display": false
  }
 },
 "nbformat": 4,
 "nbformat_minor": 5
}
